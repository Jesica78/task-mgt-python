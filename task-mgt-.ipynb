{
 "cells": [
  {
   "cell_type": "code",
   "execution_count": null,
   "id": "24f9f7ac-9604-4220-8ef1-e457473bf7e7",
   "metadata": {},
   "outputs": [
    {
     "name": "stdout",
     "output_type": "stream",
     "text": [
      "WELCOME TO THE TASK MANAGEMENT\n"
     ]
    },
    {
     "name": "stdin",
     "output_type": "stream",
     "text": [
      "Enter how many tasks to add:  4\n",
      "Enter task 1:  yoga\n",
      "Enter task 2:  medittion\n",
      "Enter task 3:  jogging\n",
      "Enter task 4:  swimmimg\n"
     ]
    },
    {
     "name": "stdout",
     "output_type": "stream",
     "text": [
      "\n",
      "Today's tasks are:\n",
      "['yoga', 'medittion', 'jogging', 'swimmimg']\n"
     ]
    },
    {
     "name": "stdin",
     "output_type": "stream",
     "text": [
      "\n",
      "Enter 1-Add\n",
      "2-Update\n",
      "3-Delete\n",
      "4-View\n",
      "5-Exit/Stop\n",
      "Your choice:  2\n",
      "Enter the task name you want to update:  medition\n"
     ]
    },
    {
     "name": "stdout",
     "output_type": "stream",
     "text": [
      "Task 'medition' not found.\n"
     ]
    },
    {
     "name": "stdin",
     "output_type": "stream",
     "text": [
      "\n",
      "Enter 1-Add\n",
      "2-Update\n",
      "3-Delete\n",
      "4-View\n",
      "5-Exit/Stop\n",
      "Your choice:  update\n"
     ]
    },
    {
     "name": "stdout",
     "output_type": "stream",
     "text": [
      "Please enter a valid number.\n"
     ]
    },
    {
     "name": "stdin",
     "output_type": "stream",
     "text": [
      "\n",
      "Enter 1-Add\n",
      "2-Update\n",
      "3-Delete\n",
      "4-View\n",
      "5-Exit/Stop\n",
      "Your choice:  dance\n"
     ]
    },
    {
     "name": "stdout",
     "output_type": "stream",
     "text": [
      "Please enter a valid number.\n"
     ]
    },
    {
     "name": "stdin",
     "output_type": "stream",
     "text": [
      "\n",
      "Enter 1-Add\n",
      "2-Update\n",
      "3-Delete\n",
      "4-View\n",
      "5-Exit/Stop\n",
      "Your choice:  1\n",
      "Enter task you want to add:  dance\n"
     ]
    },
    {
     "name": "stdout",
     "output_type": "stream",
     "text": [
      "Task 'dance' has been successfully added.\n"
     ]
    },
    {
     "name": "stdin",
     "output_type": "stream",
     "text": [
      "\n",
      "Enter 1-Add\n",
      "2-Update\n",
      "3-Delete\n",
      "4-View\n",
      "5-Exit/Stop\n",
      "Your choice:  d4\n"
     ]
    },
    {
     "name": "stdout",
     "output_type": "stream",
     "text": [
      "Please enter a valid number.\n"
     ]
    },
    {
     "name": "stdin",
     "output_type": "stream",
     "text": [
      "\n",
      "Enter 1-Add\n",
      "2-Update\n",
      "3-Delete\n",
      "4-View\n",
      "5-Exit/Stop\n",
      "Your choice:  4\n"
     ]
    },
    {
     "name": "stdout",
     "output_type": "stream",
     "text": [
      "\n",
      "Total tasks: ['yoga', 'medittion', 'jogging', 'swimmimg', 'dance']\n"
     ]
    }
   ],
   "source": [
    "def task():\n",
    "    tasks = []  # list to store all tasks\n",
    "    print(\"WELCOME TO THE TASK MANAGEMENT\")\n",
    "\n",
    "    # Error Handling for total_tasks input\n",
    "    while True:\n",
    "        try:\n",
    "            total_tasks = int(input(\"Enter how many tasks to add: \"))\n",
    "            if total_tasks < 0:\n",
    "                print(\"Please enter a positive number.\")\n",
    "                continue\n",
    "            break\n",
    "        except ValueError:\n",
    "            print(\"Please enter a valid number.\")\n",
    "\n",
    "    # Adding tasks\n",
    "    for i in range(1, total_tasks + 1):\n",
    "        task_name = input(f\"Enter task {i}: \")\n",
    "        tasks.append(task_name)\n",
    "\n",
    "    print(f\"\\nToday's tasks are:\\n{tasks}\")\n",
    "\n",
    "    # Main loop\n",
    "    while True:\n",
    "        try:\n",
    "            operation = int(input(\"\\nEnter 1-Add\\n2-Update\\n3-Delete\\n4-View\\n5-Exit/Stop\\nYour choice: \"))\n",
    "        except ValueError:\n",
    "            print(\"Please enter a valid number.\")\n",
    "            continue\n",
    "\n",
    "        if operation == 1:\n",
    "            add = input(\"Enter task you want to add: \")\n",
    "            tasks.append(add)\n",
    "            print(f\"Task '{add}' has been successfully added.\")\n",
    "\n",
    "        elif operation == 2:\n",
    "            updated_val = input(\"Enter the task name you want to update: \")\n",
    "            if updated_val in tasks:\n",
    "                new_task = input(\"Enter the new task: \")\n",
    "                index = tasks.index(updated_val)\n",
    "                tasks[index] = new_task\n",
    "                print(f\"Task '{updated_val}' has been successfully updated to '{new_task}'.\")\n",
    "            else:\n",
    "                print(f\"Task '{updated_val}' not found.\")\n",
    "\n",
    "        elif operation == 3:\n",
    "            del_val = input(\"Which task do you want to delete? \")\n",
    "            if del_val in tasks:\n",
    "                tasks.remove(del_val)\n",
    "                print(f\"Task '{del_val}' has been deleted.\")\n",
    "            else:\n",
    "                print(f\"Task '{del_val}' not found.\")\n",
    "\n",
    "        elif operation == 4:\n",
    "            print(f\"\\nTotal tasks: {tasks}\")\n",
    "\n",
    "        elif operation == 5:\n",
    "            print(\"Closing the program...\")\n",
    "            break\n",
    "\n",
    "        else:\n",
    "            print(\"Invalid Input. Please try again.\")\n",
    "\n",
    "if __name__ == \"__main__\":\n",
    "    task()"
   ]
  },
  {
   "cell_type": "code",
   "execution_count": null,
   "id": "c25a360e-b8ee-4bf6-a89c-521a53b65ebe",
   "metadata": {},
   "outputs": [],
   "source": []
  }
 ],
 "metadata": {
  "kernelspec": {
   "display_name": "Python 3 (ipykernel)",
   "language": "python",
   "name": "python3"
  },
  "language_info": {
   "codemirror_mode": {
    "name": "ipython",
    "version": 3
   },
   "file_extension": ".py",
   "mimetype": "text/x-python",
   "name": "python",
   "nbconvert_exporter": "python",
   "pygments_lexer": "ipython3",
   "version": "3.12.7"
  }
 },
 "nbformat": 4,
 "nbformat_minor": 5
}
